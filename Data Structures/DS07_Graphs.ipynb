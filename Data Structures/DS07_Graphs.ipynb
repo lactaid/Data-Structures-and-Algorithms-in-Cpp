{
 "cells": [
  {
   "cell_type": "markdown",
   "metadata": {},
   "source": [
    "# Data structures in C++"
   ]
  },
  {
   "cell_type": "code",
   "execution_count": 1,
   "metadata": {
    "vscode": {
     "languageId": "c++"
    }
   },
   "outputs": [],
   "source": [
    "#include <iostream>\n",
    "using namespace std;"
   ]
  },
  {
   "cell_type": "markdown",
   "metadata": {},
   "source": [
    "## Graphs\n",
    "\n",
    "Graphs are non-linear data structures that consist of a set of vertices/nodes and a set of edges connecting these nodes.\n",
    "\n",
    "Graphs are widely used to model relationships between objects.\n",
    "\n",
    "![graph](https://miro.medium.com/v2/resize:fit:1400/1*xpy7aax3dIU12HVrGd_siQ.png)\n",
    "\n",
    "### Graph Representation\n",
    "\n",
    "There are two common wats to represent graphs\n",
    "\n",
    "- Adjacency Matrix: A 2D array is used where the rows and columns represent vertices, and the presenco of an edge between two vertices is indicated by a non-zero value.\n",
    "\n",
    "- Adjacency List: A list of adjacent vertices is maintained for each vertex.\n",
    "\n",
    "![Representation](https://algorithmtutor.com/images/graph_representation_directed.png)\n",
    "\n",
    "### Types of Graphs\n",
    "\n",
    "- Undirected Graph: Edges have no direction.\n",
    "\n",
    "- Directed Graph (Digraph): Edges have direction and restric movement.\n",
    "\n",
    "- Weighted Graph: Each edge has a weight or cost associated with it.\n",
    "\n",
    "- Cyclic Graph: A graph that contains at least one cycle (a sequence  of vertices and edges that begiin and end at the same vertex).\n",
    "\n",
    "- Connected Graph:A graph is which there is a path between every pair of vertices.\n",
    "\n",
    "- Disconnected Graph: A graph in which somne vertices may not be reachable from other vertices.\n",
    "\n",
    "- Complete Graph: A graph in which there is an edg between every pair of distinct vertices.\n",
    "\n",
    "- Bipartite Graph: A graph whose vertices can be divided into two disjoint sets such that every edge connects to a vertex from one set to a vertex in the other set.\n",
    "\n",
    "-Tree: A connected acyclic graph.\n",
    "\n",
    "![bpgraph](https://mathonline.wdfiles.com/local--files/bipartite-and-complete-bipartite-graphs/Screen%20Shot%202014-02-09%20at%2011.28.26%20PM.png)"
   ]
  },
  {
   "cell_type": "code",
   "execution_count": 1,
   "metadata": {
    "vscode": {
     "languageId": "c++"
    }
   },
   "outputs": [
    {
     "name": "stdout",
     "output_type": "stream",
     "text": [
      "Adjacency list of vertex 0: 1 2 \n",
      "Adjacency list of vertex 1: 2 \n",
      "Adjacency list of vertex 2: 3 \n",
      "Adjacency list of vertex 3: \n"
     ]
    },
    {
     "data": {
      "text/plain": [
       "0"
      ]
     },
     "execution_count": 1,
     "metadata": {},
     "output_type": "execute_result"
    }
   ],
   "source": [
    "#include <iostream>\n",
    "#include <vector>\n",
    "using namespace std;\n",
    "\n",
    "// Representation of a graph using adjacency list\n",
    "class Graph {\n",
    "    int V; // Number of vertices\n",
    "    vector<vector<int>> adj; // Adjacency list\n",
    "\n",
    "public:\n",
    "    Graph(int vertices) {\n",
    "        V = vertices;\n",
    "        adj.resize(V);\n",
    "    }\n",
    "\n",
    "    void addEdge(int u, int v) {\n",
    "        adj[u].push_back(v);\n",
    "        // For undirected graph, uncomment the line below\n",
    "        // adj[v].push_back(u);\n",
    "    }\n",
    "\n",
    "    void printGraph() {\n",
    "        for (int u = 0; u < V; ++u) {\n",
    "            cout << \"Adjacency list of vertex \" << u << \": \";\n",
    "            for (int v : adj[u]) {\n",
    "                cout << v << \" \";\n",
    "            }\n",
    "            cout << endl;\n",
    "        }\n",
    "    }\n",
    "};\n",
    "\n",
    "\n",
    "Graph g(4); // Create a graph with 4 vertices\n",
    "g.addEdge(0, 1);\n",
    "g.addEdge(0, 2);\n",
    "g.addEdge(1, 2);\n",
    "g.addEdge(2, 3);\n",
    "\n",
    "g.printGraph();\n",
    "\n",
    "return 0;\n",
    "\n"
   ]
  }
 ],
 "metadata": {
  "kernelspec": {
   "display_name": "C++11",
   "language": "C++11",
   "name": "xcpp11"
  },
  "language_info": {
   "codemirror_mode": "text/x-c++src",
   "file_extension": ".cpp",
   "mimetype": "text/x-c++src",
   "name": "C++11",
   "version": "11"
  }
 },
 "nbformat": 4,
 "nbformat_minor": 2
}
