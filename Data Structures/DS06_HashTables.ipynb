{
 "cells": [
  {
   "cell_type": "markdown",
   "metadata": {},
   "source": [
    "# Data structures in C++"
   ]
  },
  {
   "cell_type": "code",
   "execution_count": 1,
   "metadata": {
    "vscode": {
     "languageId": "c++"
    }
   },
   "outputs": [],
   "source": [
    "#include <iostream>\n",
    "using namespace std;"
   ]
  },
  {
   "cell_type": "markdown",
   "metadata": {},
   "source": [
    "\n",
    "Hash tables, also known ash hasj maps, are a type of data structura that implements an ssociative array abstract data type, a structura that can map keys to values.\n",
    "\n",
    "The primary idea behind a hash table is to use a **hash function** to compute an index into an array of buckets or slots, from which the desired value can be found.\n",
    "\n",
    "![hash](https://khalilstemmler.com/img/blog/data-structures/hash-tables/hash-table.png)\n",
    "\n",
    "## Hash table components\n",
    "\n",
    "### Hash Functions\n",
    "\n",
    "A hash function takes a key as an input and returns an index where the corresponding value can be found. It should ideally produce unique indices for different keys, but may generate the same index for different keys (known as **collissions**).\n",
    "\n",
    "### Array or Buckets\n",
    "\n",
    "Hash tables typically consist of an array or a collection of buckets where key-value pairs are stored.\n",
    "\n",
    "The size of this array affects the performance of the hash table. It should be large enough to minimize collisions but not too large to waste memory.\n",
    "\n",
    "### Collision Resolution\n",
    "\n",
    "Various techniques are used to resolve collisions:\n",
    "\n",
    "- Separate Chaining: Each bucket contains a linked list of key value pairs that hash to the same index\n",
    "\n",
    "- Open addressing: When a collision occurs, the hash table looks for the next available slot in the array\n",
    "\n",
    "## Types of Hash tables\n",
    "\n",
    "- std::unordered_map: This is the standard hash table in C++, it uses separate chaining. Operations like insert, deletion and lookup have an average time complexity of O(1) under ideal conditions, but can degrade to O(n) in the worst case due to collisions.\n",
    "\n",
    "- std::unordered_set: This is similar to the standard implementation, but it only sores keys without the associated values, this is useful for tasks where only the presence or absence of elements matters, such as membership tests.\n",
    "\n",
    "You can also define your own type of hash table tailored to specific requirements. This involves defining your own hash function, handling collisions and managing memory allocation.\n"
   ]
  },
  {
   "cell_type": "code",
   "execution_count": 5,
   "metadata": {
    "vscode": {
     "languageId": "c++"
    }
   },
   "outputs": [
    {
     "name": "stdout",
     "output_type": "stream",
     "text": [
      "Value for key 2: banana\n",
      "Key: 3, Value: cherry\n",
      "Key: 2, Value: banana\n",
      "Key: 1, Value: apple\n"
     ]
    },
    {
     "data": {
      "text/plain": [
       "0"
      ]
     },
     "execution_count": 5,
     "metadata": {},
     "output_type": "execute_result"
    }
   ],
   "source": [
    "#include <iostream>\n",
    "#include <unordered_map>\n",
    "\n",
    "\n",
    "// Creating an unordered_map\n",
    "std::unordered_map<int, std::string> myMap;\n",
    "\n",
    "// Inserting elements\n",
    "myMap[1] = \"apple\";\n",
    "myMap[2] = \"banana\";\n",
    "myMap[3] = \"cherry\";\n",
    "\n",
    "// Accessing elements\n",
    "std::cout << \"Value for key 2: \" << myMap[2] << std::endl;\n",
    "\n",
    "// Iterating over elements\n",
    "for (const auto& pair : myMap) {\n",
    "    std::cout << \"Key: \" << pair.first << \", Value: \" << pair.second << std::endl;\n",
    "}\n",
    "\n",
    "return 0;\n",
    "\n"
   ]
  }
 ],
 "metadata": {
  "kernelspec": {
   "display_name": "C++11",
   "language": "C++11",
   "name": "xcpp11"
  },
  "language_info": {
   "codemirror_mode": "text/x-c++src",
   "file_extension": ".cpp",
   "mimetype": "text/x-c++src",
   "name": "C++11",
   "version": "11"
  }
 },
 "nbformat": 4,
 "nbformat_minor": 2
}
