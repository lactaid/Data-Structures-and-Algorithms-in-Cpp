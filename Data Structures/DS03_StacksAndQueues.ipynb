{
 "cells": [
  {
   "cell_type": "markdown",
   "metadata": {},
   "source": [
    "# Data structures in C++"
   ]
  },
  {
   "cell_type": "code",
   "execution_count": 1,
   "metadata": {},
   "outputs": [],
   "source": [
    "#include <iostream>\n",
    "using namespace std;"
   ]
  },
  {
   "cell_type": "markdown",
   "metadata": {},
   "source": [
    "## Stacks\n",
    "\n",
    "A stack is a data structure that follows the Last-in-First-Out (LIFO) principle, meaning that the last element inserted into the stack is the first one to be removed."
   ]
  },
  {
   "cell_type": "markdown",
   "metadata": {},
   "source": [
    "### Standard Stack\n",
    "\n",
    "THe C++ Standard Library provides a template class std::stack\n",
    "\n",
    "It provides member functions like push(), pop(), top(), empty() and size()"
   ]
  },
  {
   "cell_type": "code",
   "execution_count": 17,
   "metadata": {},
   "outputs": [
    {
     "name": "stdout",
     "output_type": "stream",
     "text": [
      "Top element: 30\n",
      "Top element after pop: 20\n",
      "Stack is not empty!\n",
      "Size of stack: 2\n"
     ]
    }
   ],
   "source": [
    "#include <stack>\n",
    "std::stack<int> s;\n",
    "// Push\n",
    "s.push(10);\n",
    "s.push(20);\n",
    "s.push(30);\n",
    "// Top & Pop\n",
    "std::cout << \"Top element: \" << s.top() << std::endl;\n",
    "s.pop();\n",
    "std::cout << \"Top element after pop: \" << s.top() << std::endl;\n",
    "// Empty\n",
    "if (s.empty()) {\n",
    "    std::cout << \"Stack is empty!\" << std::endl;\n",
    "} else {\n",
    "    std::cout << \"Stack is not empty!\" << std::endl;\n",
    "}\n",
    "//Size\n",
    "std::cout << \"Size of stack: \" << s.size() << std::endl; \n",
    "\n",
    "\n",
    "return 0;"
   ]
  },
  {
   "cell_type": "markdown",
   "metadata": {},
   "source": [
    "### Array-based Stack\n",
    "\n",
    "A stack can be implemented using a fixed-size array. It requires keeping track of the index of the top element."
   ]
  },
  {
   "cell_type": "code",
   "execution_count": 5,
   "metadata": {},
   "outputs": [],
   "source": [
    "const int MAX_SIZE = 100;\n",
    "class ArrayStack {\n",
    "private:\n",
    "    int arr[MAX_SIZE];\n",
    "    int top;\n",
    "\n",
    "public:\n",
    "    ArrayStack() {\n",
    "        top = -1; // Initialize top to indicate empty stack\n",
    "    }\n",
    "\n",
    "    bool isEmpty() {\n",
    "        return top == -1;\n",
    "    }\n",
    "\n",
    "    bool isFull() {\n",
    "        return top == MAX_SIZE - 1;\n",
    "    }\n",
    "\n",
    "    void push(int value) {\n",
    "        if (isFull()) {\n",
    "            std::cout << \"Stack Overflow!\" << std::endl;\n",
    "            return;\n",
    "        }\n",
    "        arr[++top] = value;\n",
    "    }\n",
    "\n",
    "    void pop() {\n",
    "        if (isEmpty()) {\n",
    "            std::cout << \"Stack Underflow!\" << std::endl;\n",
    "            return;\n",
    "        }\n",
    "        --top;\n",
    "    }\n",
    "\n",
    "    int peek() {\n",
    "        if (isEmpty()) {\n",
    "            std::cout << \"Stack is empty!\" << std::endl;\n",
    "            return -1; // or throw an exception\n",
    "        }\n",
    "        return arr[top];\n",
    "    }\n",
    "};"
   ]
  },
  {
   "cell_type": "markdown",
   "metadata": {},
   "source": [
    "### Link List-based Stack\n",
    "\n",
    "Stacks can also be implemented using a single linked list"
   ]
  },
  {
   "cell_type": "code",
   "execution_count": 10,
   "metadata": {},
   "outputs": [],
   "source": [
    "struct Node {\n",
    "    int data;\n",
    "    Node* next;\n",
    "    Node(int value) : data(value), next(nullptr) {}\n",
    "};\n",
    "\n",
    "class LinkedListStack {\n",
    "private:\n",
    "    Node* top;\n",
    "\n",
    "public:\n",
    "    LinkedListStack() : top(nullptr) {}\n",
    "\n",
    "    bool isEmpty() {\n",
    "        return top == nullptr;\n",
    "    }\n",
    "\n",
    "    void push(int value) {\n",
    "        Node* newNode = new Node(value);\n",
    "        newNode->next = top;\n",
    "        top = newNode;\n",
    "    }\n",
    "\n",
    "    void pop() {\n",
    "        if (isEmpty()) {\n",
    "            std::cout << \"Stack Underflow!\" << std::endl;\n",
    "            return;\n",
    "        }\n",
    "        Node* temp = top;\n",
    "        top = top->next;\n",
    "        delete temp;\n",
    "    }\n",
    "\n",
    "    int peek() {\n",
    "        if (isEmpty()) {\n",
    "            std::cout << \"Stack is empty!\" << std::endl;\n",
    "            return -1; // or throw an exception\n",
    "        }\n",
    "        return top->data;\n",
    "    }\n",
    "};\n"
   ]
  },
  {
   "cell_type": "markdown",
   "metadata": {},
   "source": [
    "## Queues\n",
    "\n",
    "A queue is a data structure that follows the First-In-First-Out (FIFO) principle, meaning the element that was added first to the queue will be the first one to be removed. The implementations are similar to stacks in C++"
   ]
  },
  {
   "cell_type": "markdown",
   "metadata": {},
   "source": [
    "### Standard Queue"
   ]
  },
  {
   "cell_type": "code",
   "execution_count": 23,
   "metadata": {},
   "outputs": [
    {
     "name": "stdout",
     "output_type": "stream",
     "text": [
      "Front element: 10\n",
      "Front element after pop: 20\n",
      "Back element: 30\n",
      "Queue is not empty!\n",
      "Size of Queue: 2\n"
     ]
    },
    {
     "data": {
      "text/plain": [
       "0"
      ]
     },
     "execution_count": 23,
     "metadata": {},
     "output_type": "execute_result"
    }
   ],
   "source": [
    "#include <queue>\n",
    "\n",
    "std::queue<int> q;\n",
    "// Push\n",
    "q.push(10);\n",
    "q.push(20);\n",
    "q.push(30);\n",
    "// Front & Pop & Back\n",
    "std::cout << \"Front element: \" << q.front() << std::endl;\n",
    "q.pop();\n",
    "std::cout << \"Front element after pop: \" << q.front() << std::endl;\n",
    "std::cout << \"Back element: \" << q.back() << std::endl;\n",
    "// Empty\n",
    "if (q.empty()) {\n",
    "    std::cout << \"Queue is empty!\" << std::endl;\n",
    "} else {\n",
    "    std::cout << \"Queue is not empty!\" << std::endl;\n",
    "}\n",
    "//Size\n",
    "std::cout << \"Size of Queue: \" << q.size() << std::endl;\n",
    "\n",
    "\n",
    "return 0;\n",
    "\n"
   ]
  },
  {
   "cell_type": "markdown",
   "metadata": {},
   "source": [
    "### Array-based Queue\n",
    "Using a fixed size array"
   ]
  },
  {
   "cell_type": "code",
   "execution_count": 24,
   "metadata": {},
   "outputs": [],
   "source": [
    "#include <iostream>\n",
    "\n",
    "const int MAX_SIZE = 100;\n",
    "class ArrayQueue {\n",
    "private:\n",
    "    int arr[MAX_SIZE];\n",
    "    int front, rear;\n",
    "\n",
    "public:\n",
    "    ArrayQueue() {\n",
    "        front = rear = -1; // Initialize front and rear to indicate empty queue\n",
    "    }\n",
    "\n",
    "    bool isEmpty() {\n",
    "        return front == -1;\n",
    "    }\n",
    "\n",
    "    bool isFull() {\n",
    "        return (rear + 1) % MAX_SIZE == front;\n",
    "    }\n",
    "\n",
    "    void enqueue(int value) {\n",
    "        if (isFull()) {\n",
    "            std::cout << \"Queue Overflow!\" << std::endl;\n",
    "            return;\n",
    "        }\n",
    "        if (isEmpty()) {\n",
    "            front = rear = 0;\n",
    "        } else {\n",
    "            rear = (rear + 1) % MAX_SIZE;\n",
    "        }\n",
    "        arr[rear] = value;\n",
    "    }\n",
    "\n",
    "    void dequeue() {\n",
    "        if (isEmpty()) {\n",
    "            std::cout << \"Queue Underflow!\" << std::endl;\n",
    "            return;\n",
    "        }\n",
    "        if (front == rear) {\n",
    "            front = rear = -1; // Reset front and rear to indicate empty queue\n",
    "        } else {\n",
    "            front = (front + 1) % MAX_SIZE;\n",
    "        }\n",
    "    }\n",
    "\n",
    "    int peek() {\n",
    "        if (isEmpty()) {\n",
    "            std::cout << \"Queue is empty!\" << std::endl;\n",
    "            return -1; // or throw an exception\n",
    "        }\n",
    "        return arr[front];\n",
    "    }\n",
    "};\n"
   ]
  },
  {
   "cell_type": "markdown",
   "metadata": {},
   "source": [
    "### Linked List-based Queue\n",
    "\n",
    "Another common implementation of a queue is using a single liked list"
   ]
  },
  {
   "cell_type": "code",
   "execution_count": 9,
   "metadata": {},
   "outputs": [],
   "source": [
    "struct Node {\n",
    "    int data;\n",
    "    Node* next;\n",
    "    Node(int value) : data(value), next(nullptr) {}\n",
    "};\n",
    "\n",
    "class LinkedListQueue {\n",
    "private:\n",
    "    Node* front;\n",
    "    Node* rear;\n",
    "\n",
    "public:\n",
    "    LinkedListQueue() : front(nullptr), rear(nullptr) {}\n",
    "\n",
    "    bool isEmpty() {\n",
    "        return front == nullptr;\n",
    "    }\n",
    "\n",
    "    void enqueue(int value) {\n",
    "        Node* newNode = new Node(value);\n",
    "        if (isEmpty()) {\n",
    "            front = rear = newNode;\n",
    "        } else {\n",
    "            rear->next = newNode;\n",
    "            rear = newNode;\n",
    "        }\n",
    "    }\n",
    "\n",
    "    void dequeue() {\n",
    "        if (isEmpty()) {\n",
    "            std::cout << \"Queue Underflow!\" << std::endl;\n",
    "            return;\n",
    "        }\n",
    "        Node* temp = front;\n",
    "        front = front->next;\n",
    "        delete temp;\n",
    "        if (front == nullptr) {\n",
    "            rear = nullptr;\n",
    "        }\n",
    "    }\n",
    "\n",
    "    int peek() {\n",
    "        if (isEmpty()) {\n",
    "            std::cout << \"Queue is empty!\" << std::endl;\n",
    "            return -1; // or throw an exception\n",
    "        }\n",
    "        return front->data;\n",
    "    }\n",
    "};\n"
   ]
  }
 ],
 "metadata": {
  "kernelspec": {
   "display_name": "C++11",
   "language": "C++11",
   "name": "xcpp11"
  },
  "language_info": {
   "codemirror_mode": "text/x-c++src",
   "file_extension": ".cpp",
   "mimetype": "text/x-c++src",
   "name": "c++",
   "version": "11"
  }
 },
 "nbformat": 4,
 "nbformat_minor": 2
}
