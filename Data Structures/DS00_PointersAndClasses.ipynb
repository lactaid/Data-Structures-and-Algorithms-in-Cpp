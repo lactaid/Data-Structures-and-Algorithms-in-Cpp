{
 "cells": [
  {
   "cell_type": "markdown",
   "metadata": {},
   "source": [
    "# Data structures in C++"
   ]
  },
  {
   "cell_type": "code",
   "execution_count": 3,
   "metadata": {
    "vscode": {
     "languageId": "c++"
    }
   },
   "outputs": [],
   "source": [
    "#include <iostream>\n",
    "using namespace std;"
   ]
  },
  {
   "cell_type": "markdown",
   "metadata": {},
   "source": [
    "## Prerequsites:\n",
    "\n",
    "### Pointers\n",
    "\n",
    "Variables that store the memory address of another variable.\n",
    "\n",
    "These are useful in scenarios sucha as dynamic memory allocation, passing arguments by reference, as well as working with arrays and data structures.\n",
    "\n",
    "![ptr](https://media.geeksforgeeks.org/wp-content/uploads/20230223170531/2.png)\n",
    "\n",
    "Pointers can be defined and called using different operators:\n",
    "\n",
    "\\* (Deference Operator): \n",
    "\n",
    "* When placed before a variable that is being declared, it indicates that said variable is a pointer.\n",
    "\n",
    "* When placed before calling a pointer variable, it 'de-references' the pointer, and we access the value stored at the memory address the pointer was pointing to."
   ]
  },
  {
   "cell_type": "code",
   "execution_count": 7,
   "metadata": {
    "vscode": {
     "languageId": "c++"
    }
   },
   "outputs": [
    {
     "name": "stdout",
     "output_type": "stream",
     "text": [
      "10"
     ]
    }
   ],
   "source": [
    "int num = 10; // We declare a regular integer variable\n",
    "int *ptr = &num; // Pointer variable that stores the memory address of num\n",
    "cout << *ptr; // We access the value stored on ptr\n",
    "return 0;"
   ]
  },
  {
   "cell_type": "markdown",
   "metadata": {},
   "source": [
    "& (Address-of Operator):\n",
    "* When placed before a variable, it returns it's memory address\n"
   ]
  },
  {
   "cell_type": "code",
   "execution_count": 16,
   "metadata": {
    "vscode": {
     "languageId": "c++"
    }
   },
   "outputs": [
    {
     "name": "stdout",
     "output_type": "stream",
     "text": [
      "Address of num using &num: 0x7f008f6f7070\n",
      "Address of num using ptr: 0x7f008f6f7070\n",
      "Address of ptr: 0x7f008f6f7078\n"
     ]
    }
   ],
   "source": [
    "cout << \"Address of num using &num: \" << &num << endl;\n",
    "cout << \"Address of num using ptr: \" << ptr << endl;\n",
    "cout << \"Address of ptr: \" << &ptr << endl;"
   ]
  },
  {
   "cell_type": "markdown",
   "metadata": {},
   "source": [
    "As we can see, ptr and &num give us the memory address of num, however. We can also see how calling `&ptr` gives us the address of the pointer variable instead.\n",
    "\n",
    "Here we have a full example of their implementation:"
   ]
  },
  {
   "cell_type": "code",
   "execution_count": 26,
   "metadata": {
    "vscode": {
     "languageId": "c++"
    }
   },
   "outputs": [
    {
     "name": "stdout",
     "output_type": "stream",
     "text": [
      "Value of num: 10\n",
      "Address of num: 0x7f008f6f70f0\n",
      "Value stored at address pointed by ptr: 10\n"
     ]
    }
   ],
   "source": [
    "int num = 10;\n",
    "int *ptr = &num; // Pointer to an integer\n",
    "cout << \"Value of num: \" << num << endl;\n",
    "cout << \"Address of num: \" << &num << endl;\n",
    "cout << \"Value stored at address pointed by ptr: \" << *ptr << endl;\n",
    "return 0;"
   ]
  },
  {
   "cell_type": "markdown",
   "metadata": {},
   "source": [
    "We can also point to an array and reference it, this pointer will point to the first element."
   ]
  },
  {
   "cell_type": "code",
   "execution_count": 27,
   "metadata": {
    "vscode": {
     "languageId": "c++"
    }
   },
   "outputs": [
    {
     "name": "stdout",
     "output_type": "stream",
     "text": [
      "First element of the array: 10\n",
      "Second element of the array: 20\n"
     ]
    }
   ],
   "source": [
    "int arr[] = {10, 20, 30, 40, 50};\n",
    "int *ptr = arr; // Pointer to the first element of the array\n",
    "cout << \"First element of the array: \" << *ptr << endl;\n",
    "cout << \"Second element of the array: \" << *(ptr + 1) << endl;\n",
    "return 0;"
   ]
  },
  {
   "cell_type": "markdown",
   "metadata": {},
   "source": [
    "Strings are represented as arrays of characters, terminated by a '\\0' character, so the same applies:"
   ]
  },
  {
   "cell_type": "code",
   "execution_count": 29,
   "metadata": {
    "vscode": {
     "languageId": "c++"
    }
   },
   "outputs": [
    {
     "name": "stdout",
     "output_type": "stream",
     "text": [
      "First character of the string: H\n",
      "Second character of the string: e\n"
     ]
    }
   ],
   "source": [
    "char str[] = \"Hello\";    // Declare a character array (string)\n",
    "char *ptr = str;         // Pointer to the first character of the string\n",
    "\n",
    "// Dereference operator (*) used to access the value stored at the memory address pointed to\n",
    "cout << \"First character of the string: \" << *ptr << endl;\n",
    "\n",
    "// Accessing the second character of the string using pointer arithmetic\n",
    "cout << \"Second character of the string: \" << *(ptr + 1) << endl;\n",
    "\n",
    "return 0;"
   ]
  },
  {
   "cell_type": "markdown",
   "metadata": {},
   "source": [
    "We can also declare pointers that will store the memory address of another pointer. These are used to indirectly access or modify a pointer variable. "
   ]
  },
  {
   "cell_type": "code",
   "execution_count": 30,
   "metadata": {
    "vscode": {
     "languageId": "c++"
    }
   },
   "outputs": [
    {
     "name": "stdout",
     "output_type": "stream",
     "text": [
      "Value of num: 10\n",
      "Value stored at address pointed by ptr1: 10\n",
      "Value stored at address pointed by ptr2: 10\n"
     ]
    }
   ],
   "source": [
    "int num = 10;\n",
    "int *ptr1 = &num;\n",
    "int **ptr2 = &ptr1; // Pointer to pointer to an integer\n",
    "cout << \"Value of num: \" << num << endl;\n",
    "cout << \"Value stored at address pointed by ptr1: \" << *ptr1 << endl;\n",
    "cout << \"Value stored at address pointed by ptr2: \" << **ptr2 << endl;\n",
    "return 0;"
   ]
  },
  {
   "cell_type": "markdown",
   "metadata": {},
   "source": [
    "- Double pointers are often used in function parameters to modify pointer variables inside a function and have those changes reflected outside the function scope.\n",
    "\n",
    "\n",
    "- This is because passing a pointer by value to a function only allows you to modify the copy of the pointer within the function, not the original pointer itself.\n",
    "\n",
    "\n",
    "- By passing a double pointer, you can modify the original pointer directly.\n",
    "For example:"
   ]
  },
  {
   "cell_type": "code",
   "execution_count": 33,
   "metadata": {
    "vscode": {
     "languageId": "c++"
    }
   },
   "outputs": [],
   "source": [
    "void modifyPointer(int **ptr) {\n",
    "    *ptr = new int;  // Modifying the original pointer to point to a new memory location\n",
    "}\n",
    "\n",
    "\n",
    "int *ptr = nullptr;\n",
    "modifyPointer(&ptr);  // Pass the address of ptr (double pointer)\n",
    "// Now ptr points to dynamically allocated memory\n",
    "delete ptr;  // Don't forget to free the memory\n",
    "return 0;"
   ]
  },
  {
   "cell_type": "markdown",
   "metadata": {},
   "source": [
    "### Classes and Objects\n",
    "\n",
    "Object-oriented programming (OOP) is a programming paradigm based on the concepts of objects, where software is organized as a collection of said objects that interact with each other in order to accomplish a given task.\n",
    "\n",
    "Class: A class is a blueprint or template for creating objects. It defines properties (attributes) and behaviors (methods) that objects of the class will have. It serves as a model from which objects can be isntantiaded.\n",
    "\n",
    "Object: An instance of a class. Each object of a class has its own set of attribiutes and an perform actions defined by its clas's methods.\n",
    "\n",
    "![oop](https://miro.medium.com/v2/resize:fit:730/1*ppwbbp6i3aFyt20NDk09gQ.jpeg)\n",
    "\n",
    "The three key principles of OOP are:\n",
    "\n",
    "- Encapsulation: Bundling data and methods into a single unit (class) in order to hide internal details and expose only necessary interfaces.\n",
    "\n",
    "- Abstraction: Representing essential features without including unnecessary implementation details, focusing on what an object does rather than how it does it.\n",
    "\n",
    "- Inheritance: Mechanism allowing a class to inherit properties and behaviour from another class, promoting code reusse and hierarchical organization\n",
    "\n",
    "- Polymorphism: Ability of objects of different classes to be treated as objects of a common superclass trough hinheritance, it enables method to behave differently based on the object they are invoked from.\n"
   ]
  },
  {
   "cell_type": "markdown",
   "metadata": {},
   "source": [
    "**Implementation**\n"
   ]
  },
  {
   "cell_type": "markdown",
   "metadata": {},
   "source": [
    "Data Members (Attributes)"
   ]
  },
  {
   "cell_type": "code",
   "execution_count": 1,
   "metadata": {
    "vscode": {
     "languageId": "c++"
    }
   },
   "outputs": [],
   "source": [
    "class MyClass {\n",
    "private:\n",
    "    int myInt; // private data member\n",
    "public:\n",
    "    double myDouble; // public data member\n",
    "};\n"
   ]
  },
  {
   "cell_type": "markdown",
   "metadata": {},
   "source": [
    "Member Functions (Methods)"
   ]
  },
  {
   "cell_type": "code",
   "execution_count": 2,
   "metadata": {
    "vscode": {
     "languageId": "c++"
    }
   },
   "outputs": [],
   "source": [
    "class MyClass {\n",
    "public:\n",
    "    void setData(int num) { myInt = num; } // public member function\n",
    "    int getData() { return myInt; } // public member function\n",
    "private:\n",
    "    int myInt;\n",
    "};\n"
   ]
  },
  {
   "cell_type": "markdown",
   "metadata": {},
   "source": [
    "Access Specifiers: These determine the accessibility of attributes and methods within the class and from outside the class. C++ supports three access specifiers.\n",
    "\n",
    "- public: Members declared as public are accesible from outside the class.\n",
    "\n",
    "- private: Members declared as private are only accesible within the class.\n",
    "\n",
    "- Protected: Similar to private, but memebers declared as protected are accesible within derived classes"
   ]
  },
  {
   "cell_type": "code",
   "execution_count": 3,
   "metadata": {
    "vscode": {
     "languageId": "c++"
    }
   },
   "outputs": [],
   "source": [
    "class MyClass {\n",
    "public: // Public access specifier\n",
    "    int publicVar; // Accessible from outside the class\n",
    "private: // Private access specifier\n",
    "    int privateVar; // Accessible only within the class\n",
    "protected: // Protected access specifier\n",
    "    int protectedVar; // Accessible within derived classes\n",
    "};\n"
   ]
  },
  {
   "cell_type": "markdown",
   "metadata": {},
   "source": [
    "Constructors: Special methods used for initializing objects of the class. They have the same name as the class and are invoked automatically when an object is created. Constructors can be overloaded, allowing different ways to initialize objects."
   ]
  },
  {
   "cell_type": "code",
   "execution_count": 4,
   "metadata": {
    "vscode": {
     "languageId": "c++"
    }
   },
   "outputs": [],
   "source": [
    "class MyClass {\n",
    "public:\n",
    "    MyClass() { // Default constructor\n",
    "        // Initialization code\n",
    "    }\n",
    "    MyClass(int num) { // Parameterized constructor\n",
    "        // Initialization code with parameter\n",
    "    }\n",
    "};\n"
   ]
  },
  {
   "cell_type": "markdown",
   "metadata": {},
   "source": [
    "Destructors: Special member functions used for releaseing resources acquired by objects of the class. They have the same name as the class preceded by atilde (~) and are invoked automatically when an object is destroyed."
   ]
  },
  {
   "cell_type": "code",
   "execution_count": 5,
   "metadata": {
    "vscode": {
     "languageId": "c++"
    }
   },
   "outputs": [],
   "source": [
    "class MyClass {\n",
    "public:\n",
    "    ~MyClass() { // Destructor\n",
    "        // Cleanup code\n",
    "    }\n",
    "};\n"
   ]
  },
  {
   "cell_type": "markdown",
   "metadata": {},
   "source": [
    "Member Functions can be defined inside the class declaration itself (inline) or outside the class declaration."
   ]
  },
  {
   "cell_type": "code",
   "execution_count": null,
   "metadata": {
    "vscode": {
     "languageId": "c++"
    }
   },
   "outputs": [],
   "source": [
    "class MyClass {\n",
    "public:\n",
    "    void myFunction() { // Inline member function definition\n",
    "        // Function body\n",
    "    }\n",
    "    void anotherFunction(); // Member function declaration\n",
    "};\n",
    "\n",
    "void MyClass::anotherFunction() { // Member function definition outside the class\n",
    "    // Function body\n",
    "}\n"
   ]
  },
  {
   "cell_type": "markdown",
   "metadata": {},
   "source": [
    "Function Override: A suclass can provide a specific implementation of a method that is already defined in its superclass. When a method in a sublass has the same signature (name and parameters) as a method in its superclass, it overrides the superclass method. This function is initally defined as virtual in the superclass."
   ]
  },
  {
   "cell_type": "code",
   "execution_count": null,
   "metadata": {
    "vscode": {
     "languageId": "c++"
    }
   },
   "outputs": [],
   "source": [
    "class Animal {\n",
    "public:\n",
    "    virtual void makeSound() { // Virtual function\n",
    "        cout << \"Animal makes a sound\" << endl;\n",
    "    }\n",
    "};\n",
    "\n",
    "class Dog : public Animal {\n",
    "public:\n",
    "    void makeSound() override { // Override the method from the superclass\n",
    "        cout << \"Dog barks\" << endl;\n",
    "    }\n",
    "};\n",
    "\n",
    "class Cat : public Animal {\n",
    "public:\n",
    "    void makeSound() override { // Override the method from the superclass\n",
    "        cout << \"Cat meows\" << endl;\n",
    "    }\n",
    "};\n"
   ]
  }
 ],
 "metadata": {
  "kernelspec": {
   "display_name": "C++11",
   "language": "C++11",
   "name": "xcpp11"
  },
  "language_info": {
   "codemirror_mode": "text/x-c++src",
   "file_extension": ".cpp",
   "mimetype": "text/x-c++src",
   "name": "C++11",
   "version": "11"
  }
 },
 "nbformat": 4,
 "nbformat_minor": 2
}
