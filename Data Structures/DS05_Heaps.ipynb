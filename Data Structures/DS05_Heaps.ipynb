{
 "cells": [
  {
   "cell_type": "markdown",
   "metadata": {},
   "source": [
    "# Data structures in C++"
   ]
  },
  {
   "cell_type": "code",
   "execution_count": 1,
   "metadata": {
    "vscode": {
     "languageId": "c++"
    }
   },
   "outputs": [],
   "source": [
    "#include <iostream>\n",
    "using namespace std;"
   ]
  },
  {
   "cell_type": "markdown",
   "metadata": {},
   "source": [
    "## Heaps\n",
    "\n",
    "Heaps are a fundamental data structure used to implement priority queues and are widely employed in various algorithms, such as heap sort an Dijkstra's shortest path algorithm. A heap is a specialized binary tree-based data structure where the parent nodes always have a higher (or lower, depending on wheter it's a min-heap or max-heap) priority than their children\n",
    "\n",
    "### Types of heaps:\n",
    "\n",
    "- Min Heap: The parent node has smaller values than its children.\n",
    "- Max heap: The parent node has a greater value than its children\n",
    "\n",
    "![heap](https://media.geeksforgeeks.org/wp-content/cdn-uploads/20221220165711/MinHeapAndMaxHeap1.png)\n",
    "\n",
    "### Operations on Heaps:\n",
    "- Insertion: Adding a new element to the hehap while maintaining the heap property.\n",
    "- Deletion: Removing the root element from the hehap while maintaining the heap property.\n",
    "- Heapify: Rearranging the elements of the heap to maintain the heap property.\n",
    "\n",
    "\n",
    "### Implementation\n",
    "\n",
    "Heaps are often implemented using arrays due to their efficient memory usange and cache locality.\n",
    "\n",
    "- The children of the element at index `i` are located at indices `2*1+1` (left child) and `2*i+2` right child.\n",
    "\n",
    "\n"
   ]
  },
  {
   "cell_type": "code",
   "execution_count": null,
   "metadata": {
    "vscode": {
     "languageId": "c++"
    }
   },
   "outputs": [],
   "source": [
    "#include <iostream>\n",
    "#include <vector>\n",
    "#include <algorithm>\n",
    "\n",
    "using namespace std;\n",
    "\n",
    "class MinHeap {\n",
    "private:\n",
    "    vector<int> heap;\n",
    "\n",
    "    void heapifyUp(int index) {\n",
    "        int parent = (index - 1) / 2;\n",
    "        while (index > 0 && heap[index] < heap[parent]) {\n",
    "            swap(heap[index], heap[parent]);\n",
    "            index = parent;\n",
    "            parent = (index - 1) / 2;\n",
    "        }\n",
    "    }\n",
    "\n",
    "    void heapifyDown(int index) {\n",
    "        int smallest = index;\n",
    "        int leftChild = 2 * index + 1;\n",
    "        int rightChild = 2 * index + 2;\n",
    "\n",
    "        if (leftChild < heap.size() && heap[leftChild] < heap[smallest])\n",
    "            smallest = leftChild;\n",
    "        if (rightChild < heap.size() && heap[rightChild] < heap[smallest])\n",
    "            smallest = rightChild;\n",
    "\n",
    "        if (smallest != index) {\n",
    "            swap(heap[index], heap[smallest]);\n",
    "            heapifyDown(smallest);\n",
    "        }\n",
    "    }\n",
    "\n",
    "public:\n",
    "    void insert(int value) {\n",
    "        heap.push_back(value);\n",
    "        heapifyUp(heap.size() - 1);\n",
    "    }\n",
    "\n",
    "    void deleteMin() {\n",
    "        if (heap.empty()) {\n",
    "            cerr << \"Heap is empty\\n\";\n",
    "            return;\n",
    "        }\n",
    "        heap[0] = heap.back();\n",
    "        heap.pop_back();\n",
    "        heapifyDown(0);\n",
    "    }\n",
    "\n",
    "    int getMin() {\n",
    "        if (!heap.empty())\n",
    "            return heap[0];\n",
    "        cerr << \"Heap is empty\\n\";\n",
    "        return -1; // Assuming heap contains only non-negative integers\n",
    "    }\n",
    "};\n",
    "\n",
    "\n",
    "MinHeap minHeap;\n",
    "minHeap.insert(3);\n",
    "minHeap.insert(2);\n",
    "minHeap.insert(1);\n",
    "cout << minHeap.getMin() << endl; // Output: 1\n",
    "minHeap.deleteMin();\n",
    "cout << minHeap.getMin() << endl; // Output: 2\n",
    "return 0;\n",
    "\n"
   ]
  }
 ],
 "metadata": {
  "kernelspec": {
   "display_name": "C++11",
   "language": "C++11",
   "name": "xcpp11"
  },
  "language_info": {
   "codemirror_mode": "text/x-c++src",
   "file_extension": ".cpp",
   "mimetype": "text/x-c++src",
   "name": "C++11",
   "version": "11"
  }
 },
 "nbformat": 4,
 "nbformat_minor": 2
}
