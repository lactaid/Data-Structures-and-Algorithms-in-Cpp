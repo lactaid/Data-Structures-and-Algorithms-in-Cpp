{
 "cells": [
  {
   "cell_type": "markdown",
   "metadata": {},
   "source": [
    "# Data structures in C++"
   ]
  },
  {
   "cell_type": "code",
   "execution_count": 3,
   "metadata": {
    "vscode": {
     "languageId": "c++"
    }
   },
   "outputs": [],
   "source": [
    "#include <iostream>\n",
    "using namespace std;"
   ]
  },
  {
   "cell_type": "markdown",
   "metadata": {},
   "source": [
    "## Arrays\n",
    "\n",
    "Arrays are a method for storing multiple elements of the same data type under a single variable name. These are stored in contiguous memory locations, which allow for efficient access to their elements using indexing.\n",
    "\n",
    "These are commonly used for storing homogeneous data, implemening algorithms and representing vectors and matrices\n",
    "\n"
   ]
  },
  {
   "cell_type": "markdown",
   "metadata": {},
   "source": [
    "The new and delete operators in C++ are used for dynamic memory allocation and deallocation, respectively:\n",
    "\n",
    "- new: used for dynamic memory allocation for a single object or an array of objects, **it returns a pointer to the allocated memory** \n",
    "\n",
    "- delete: used to deallocate memory that was allocated dynamically using new.\n",
    "\n",
    "**For every new, there must be a corresponding delete to avoid memory leaks.** Using delete on a pointer that was not allocated with new results in undefined behaviour."
   ]
  },
  {
   "cell_type": "markdown",
   "metadata": {},
   "source": [
    "### Types of Arrays:"
   ]
  },
  {
   "cell_type": "markdown",
   "metadata": {},
   "source": [
    "**Static Arrays**\n",
    "\n",
    "These have a fixed size that must be specified at compilation time.\n",
    "\n",
    "Use Cases:\n",
    "- The needed size of the array is needed at compile time and will not change\n",
    "- When memory efficiency is not a concern\n",
    "\n",
    "Benefits:\n",
    "- Compile time memory allocation can lead to faster access times\n",
    "\n",
    "Disadvantages:\n",
    "- Large static arrays may lead to stack overflow errors if they exceed the stack size limit"
   ]
  },
  {
   "cell_type": "code",
   "execution_count": 1,
   "metadata": {
    "vscode": {
     "languageId": "c++"
    }
   },
   "outputs": [],
   "source": [
    "int staticArray[5]; // Declares an integer array of size 5"
   ]
  },
  {
   "cell_type": "markdown",
   "metadata": {},
   "source": [
    "Dynamic Arrays\n",
    "\n",
    "These allow for resizing during runtime, they are implemented using pointers and dynamic memory allocation (new and delete operators).\n",
    "\n",
    "Use Cases:\n",
    "- When the size of the needed array is not known at compile time\n",
    "- When memory efficiency is crucial\n",
    "\n",
    "Advatages:\n",
    "- Flexible memory usage, as well as reduced memory waste, since they allocate memory needed only for the elemets they contain.\n",
    "\n",
    "Disadvantages:\n",
    "- Can impact performance, since frequent allocation and deallocation can lead to memory fragmentation\n",
    "- If not managed properly, dynamic arrays can lead to memory leaks if the memory is not deallocated ater use."
   ]
  },
  {
   "cell_type": "code",
   "execution_count": 2,
   "metadata": {
    "vscode": {
     "languageId": "c++"
    }
   },
   "outputs": [],
   "source": [
    "int* dynamicArray = new int[5]; // Declares a dynamic integer array of size 5\n",
    "delete[] dynamicArray; // Freeing the memory allocated\n"
   ]
  },
  {
   "cell_type": "markdown",
   "metadata": {},
   "source": [
    "## Tuples\n",
    "\n",
    "Tuples allow you to store a fixed-size colletions of heterogeneous elements. These are commonly used when a fixed number of values of different types need to be grouped together, such as when returning multiple values from a function.\n",
    "\n",
    "Types of Tuples in C++ :\n"
   ]
  },
  {
   "cell_type": "code",
   "execution_count": 6,
   "metadata": {
    "vscode": {
     "languageId": "c++"
    }
   },
   "outputs": [],
   "source": [
    "// std::tuple\n",
    "\n",
    "#include <tuple>\n",
    "std::tuple<int, double, std::string> myTuple(10, 3.14, \"Hello\");"
   ]
  },
  {
   "cell_type": "code",
   "execution_count": 9,
   "metadata": {
    "vscode": {
     "languageId": "c++"
    }
   },
   "outputs": [],
   "source": [
    "// std::pair\n",
    "\n",
    "#include <utility>\n",
    "std::pair<int, std::string> myPair(42, \"Answer\");"
   ]
  },
  {
   "cell_type": "code",
   "execution_count": 10,
   "metadata": {
    "vscode": {
     "languageId": "c++"
    }
   },
   "outputs": [],
   "source": [
    "// std::make_tuple() and std::make_pair()\n",
    "\n",
    "auto myTuple = std::make_tuple(10, 3.14, \"Hello\");\n",
    "auto myPair = std::make_pair(42, \"Answer\");"
   ]
  }
 ],
 "metadata": {
  "kernelspec": {
   "display_name": "C++11",
   "language": "C++11",
   "name": "xcpp11"
  },
  "language_info": {
   "codemirror_mode": "text/x-c++src",
   "file_extension": ".cpp",
   "mimetype": "text/x-c++src",
   "name": "C++11",
   "version": "11"
  }
 },
 "nbformat": 4,
 "nbformat_minor": 2
}
