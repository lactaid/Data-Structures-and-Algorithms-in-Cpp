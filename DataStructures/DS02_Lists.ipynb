{
 "cells": [
  {
   "cell_type": "markdown",
   "metadata": {},
   "source": [
    "# Data structures in C++"
   ]
  },
  {
   "cell_type": "code",
   "execution_count": 1,
   "metadata": {
    "vscode": {
     "languageId": "c++"
    }
   },
   "outputs": [],
   "source": [
    "#include <iostream>\n",
    "using namespace std;"
   ]
  },
  {
   "cell_type": "markdown",
   "metadata": {},
   "source": [
    "## Linked Lists\n",
    "\n",
    "A Linked list is a linear data structure where elements are not stored at contiguous memory locations like arrays. Instead, each element (also called node) in a linked list consists of two basic parts:\n",
    "\n",
    "1. The data\n",
    "2. A reference (pointer) to the next node\n",
    "\n",
    "This makes them dynamic in nature, allowinf for efficient insertion and deletion operations.\n"
   ]
  },
  {
   "cell_type": "markdown",
   "metadata": {},
   "source": [
    "### Single Linked Lists\n",
    "\n",
    "In this type of linked list, each node has a data field and a single pointer to the next node in the sequence\n",
    "\n",
    "The last node points to null, indicating the end of the sequence"
   ]
  },
  {
   "cell_type": "code",
   "execution_count": 2,
   "metadata": {
    "vscode": {
     "languageId": "c++"
    }
   },
   "outputs": [],
   "source": [
    "// Node structure\n",
    "\n",
    "struct Node {\n",
    "    int data;\n",
    "    Node* next;\n",
    "    \n",
    "    Node(int val) : data(val), next(nullptr) {}\n",
    "};"
   ]
  },
  {
   "cell_type": "code",
   "execution_count": 11,
   "metadata": {
    "vscode": {
     "languageId": "c++"
    }
   },
   "outputs": [],
   "source": [
    "// Creating a single linked list\n",
    "\n",
    "class SinglyLinkedList {\n",
    "private:\n",
    "    Node* head;\n",
    "public:\n",
    "    SinglyLinkedList() : head(nullptr) {}\n",
    "\n",
    "    // Function to insert a node at the end\n",
    "    void insert(int val) {\n",
    "        Node* newNode = new Node(val);\n",
    "        if (!head) {\n",
    "            head = newNode;\n",
    "            return;\n",
    "        }\n",
    "        Node* temp = head;\n",
    "        while (temp->next) {\n",
    "            temp = temp->next;\n",
    "        }\n",
    "        temp->next = newNode;\n",
    "    }\n",
    "\n",
    "    // Function to print the linked list\n",
    "    void display() {\n",
    "        Node* temp = head;\n",
    "        while (temp) {\n",
    "            std::cout << temp->data << \" \";\n",
    "            temp = temp->next;\n",
    "        }\n",
    "        std::cout << std::endl;\n",
    "    }\n",
    "};\n"
   ]
  },
  {
   "cell_type": "markdown",
   "metadata": {},
   "source": [
    "### Double Linked Lists\n",
    "\n",
    "In this type of linked list, each node has a data field, and two pointers: one pointing to the next node, and one pointing to the prrevious node.\n",
    "\n",
    "This allows for traversal in both forward and backward directions"
   ]
  },
  {
   "cell_type": "code",
   "execution_count": 17,
   "metadata": {
    "vscode": {
     "languageId": "c++"
    }
   },
   "outputs": [],
   "source": [
    "struct Node {\n",
    "    int data;\n",
    "    Node* next;\n",
    "    Node* prev;\n",
    "    \n",
    "    Node(int val) : data(val), next(nullptr), prev(nullptr) {}\n",
    "};\n",
    "\n",
    "class DoublyLinkedList {\n",
    "private:\n",
    "    Node* head;\n",
    "public:\n",
    "    DoublyLinkedList() : head(nullptr) {}\n",
    "\n",
    "    // Function to insert a node at the end\n",
    "    void insert(int val) {\n",
    "        Node* newNode = new Node(val);\n",
    "        if (!head) {\n",
    "            head = newNode;\n",
    "            return;\n",
    "        }\n",
    "        Node* temp = head;\n",
    "        while (temp->next) {\n",
    "            temp = temp->next;\n",
    "        }\n",
    "        temp->next = newNode;\n",
    "        newNode->prev = temp;\n",
    "    }\n",
    "\n",
    "    // Function to print the linked list\n",
    "    void display() {\n",
    "        Node* temp = head;\n",
    "        while (temp) {\n",
    "            std::cout << temp->data << \" \";\n",
    "            temp = temp->next;\n",
    "        }\n",
    "        std::cout << std::endl;\n",
    "    }\n",
    "};\n"
   ]
  },
  {
   "cell_type": "markdown",
   "metadata": {},
   "source": [
    "### Circular Linked Lists\n",
    "\n",
    "In this type of linked list, the last node will point to the first node, forming a circle, it can also be of single or double type."
   ]
  },
  {
   "cell_type": "code",
   "execution_count": 19,
   "metadata": {
    "vscode": {
     "languageId": "c++"
    }
   },
   "outputs": [],
   "source": [
    "#include <iostream>\n",
    "\n",
    "// Node structure\n",
    "struct Node {\n",
    "    int data;\n",
    "    Node* next;\n",
    "\n",
    "    // Constructor\n",
    "    Node(int val) : data(val), next(nullptr) {}\n",
    "};\n",
    "\n",
    "// Circular Linked List class\n",
    "class CircularLinkedList {\n",
    "private:\n",
    "    Node* head;\n",
    "\n",
    "public:\n",
    "    // Constructor\n",
    "    CircularLinkedList() : head(nullptr) {}\n",
    "\n",
    "    // Function to insert a node at the end of the circular linked list\n",
    "    void insert(int val) {\n",
    "        Node* newNode = new Node(val);\n",
    "        if (!head) {\n",
    "            head = newNode;\n",
    "            head->next = head;  // Make the only node point to itself to form a circle\n",
    "        } else {\n",
    "            Node* temp = head;\n",
    "            while (temp->next != head) {\n",
    "                temp = temp->next;\n",
    "            }\n",
    "            temp->next = newNode;\n",
    "            newNode->next = head;  // New node points to the head to complete the circle\n",
    "        }\n",
    "    }\n",
    "\n",
    "    // Function to display the circular linked list\n",
    "    void display() {\n",
    "        if (!head) {\n",
    "            std::cout << \"Circular Linked List is empty.\" << std::endl;\n",
    "            return;\n",
    "        }\n",
    "        Node* temp = head;\n",
    "        do {\n",
    "            std::cout << temp->data << \" \";\n",
    "            temp = temp->next;\n",
    "        } while (temp != head);\n",
    "        std::cout << std::endl;\n",
    "    }\n",
    "};\n",
    "\n"
   ]
  },
  {
   "cell_type": "code",
   "execution_count": 20,
   "metadata": {
    "vscode": {
     "languageId": "c++"
    }
   },
   "outputs": [
    {
     "name": "stdout",
     "output_type": "stream",
     "text": [
      "Circular Linked List: 1 2 3 4 \n"
     ]
    }
   ],
   "source": [
    "\n",
    "CircularLinkedList cll;\n",
    "cll.insert(1);\n",
    "cll.insert(2);\n",
    "cll.insert(3);\n",
    "cll.insert(4);\n",
    "\n",
    "std::cout << \"Circular Linked List: \";\n",
    "cll.display();\n",
    "\n",
    "return 0;\n"
   ]
  },
  {
   "cell_type": "markdown",
   "metadata": {},
   "source": [
    "### When to use each one\n",
    "\n",
    "Single Linked List:\n",
    "- Dynamic memory allocation, implementation of stacks and queues, traversal algorithms, adjacency lists in graphs\n",
    "\n",
    "Double Linked List:\n",
    "- Efficient insertion or deletion on arbitrary positions, implementation of deque, bidirectional traversal\n",
    "\n",
    "Circular Linked list:\n",
    "- Circular buffers, round-robin scheduling, cyclical data structures in simulations and games"
   ]
  },
  {
   "cell_type": "markdown",
   "metadata": {},
   "source": [
    "### Linked Lists vs Dynamic Arrays\n",
    "\n",
    "It depends on the type of problem:\n",
    "\n",
    "**Dynamic Arrays:**\n",
    "- Advantages: \n",
    "    * Fast O(1) access, as well as assignmnet by index.\n",
    "    * Fast O(1) appending and removing at the end (push and pop)\n",
    "- Disadvantages:\n",
    "    * Slow O(n/2) insertion or removal on random positions\n",
    "    * Unpredictable performance when resizing is required\n",
    "    * There is often unused space due to allocation of more memory than needed\n",
    "\n",
    "**Linked List:**\n",
    "- Advantages: \n",
    "    * Fast O(1) insertion and removal at any possition\n",
    "    * It allows for pointer sharing between lists\n",
    "- Disadvantages:\n",
    "    * Often requires recursion for manipulating\n",
    "    * Slower in algorithms that random access \n",
    "\n",
    "In essence:\n",
    "\n",
    "- Dynamic arrays are better when dealing with random access using indexing. - Linked lists are better when dealing with algorithms that require a lot of insertion and removal operations at any position in the list\n",
    "\n",
    "\n",
    "[Source](https://stackoverflow.com/a/35401628)\n",
    "\n",
    "\n"
   ]
  }
 ],
 "metadata": {
  "kernelspec": {
   "display_name": "C++11",
   "language": "C++11",
   "name": "xcpp11"
  },
  "language_info": {
   "codemirror_mode": "text/x-c++src",
   "file_extension": ".cpp",
   "mimetype": "text/x-c++src",
   "name": "C++11",
   "version": "11"
  }
 },
 "nbformat": 4,
 "nbformat_minor": 2
}
